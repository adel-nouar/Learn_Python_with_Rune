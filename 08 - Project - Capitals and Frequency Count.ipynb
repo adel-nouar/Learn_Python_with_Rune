{
 "cells": [
  {
   "cell_type": "markdown",
   "metadata": {},
   "source": [
    "# Project - Capitals and Frequency Count\n",
    "### Goal\n",
    "- Guess a Captial Game\n",
    "- Frequency Count"
   ]
  },
  {
   "cell_type": "markdown",
   "metadata": {},
   "source": [
    "### Description of Guess a Capital Game\n",
    "- Use a dictionary to keep country-capital pairs as key-value.\n",
    "    - {'France': 'Paris', 'Finland': 'Helsinki', 'Sweden': 'Stockholm', 'Denmark': 'Copenhagen'}\n",
    "- Prompt the user 3 times for a capital in a country.\n",
    "- Print the number of correct capitals.\n",
    "- Feel free to print whether answer is correct, and what it is."
   ]
  },
  {
   "cell_type": "code",
   "execution_count": 1,
   "metadata": {},
   "outputs": [],
   "source": [
    "import random"
   ]
  },
  {
   "cell_type": "code",
   "execution_count": 4,
   "metadata": {},
   "outputs": [
    {
     "name": "stdout",
     "output_type": "stream",
     "text": [
      "Correct! The capital of France is Paris!\n",
      "Correct! The capital of Denmark is Copenhagen!\n",
      "Correct! The capital of Sweden is Stockholm!\n",
      "Your score: 3\n"
     ]
    }
   ],
   "source": [
    "capitals = {'France': 'Paris', 'Finland': 'Helsinki', 'Sweden': 'Stockholm', 'Denmark': 'Copenhagen'}\n",
    "\n",
    "score = 0\n",
    "\n",
    "for i in range(3):\n",
    "    country = random.choice(list(capitals.keys()))\n",
    "\n",
    "    answer = input(f\"What is the capital of {country} ?\")\n",
    "\n",
    "    if answer.lower() == capitals[country].lower():\n",
    "        print(f\"Correct! The capital of {country} is {capitals[country]}!\")\n",
    "        score = score + 1\n",
    "    else:\n",
    "        print(f\"Incorrect! The capital of {country} is {capitals[country]}!\")\n",
    "\n",
    "print(f\"Your score: {score}\")"
   ]
  },
  {
   "cell_type": "markdown",
   "metadata": {},
   "source": [
    "### Description of Frequency Count\n",
    "- Prompt the user for a line of text\n",
    "- Use a dictionary to make frequency count of the letters.\n",
    "- Print the frequencies"
   ]
  },
  {
   "cell_type": "code",
   "execution_count": 7,
   "metadata": {},
   "outputs": [
    {
     "name": "stdout",
     "output_type": "stream",
     "text": [
      "t: 3\n",
      "h: 1\n",
      "i: 2\n",
      "s: 2\n",
      " : 3\n",
      "m: 1\n",
      "y: 1\n",
      "e: 1\n",
      "x: 1\n"
     ]
    }
   ],
   "source": [
    "text = input(\"Write a line of text: \")\n",
    "\n",
    "freq = {}\n",
    "\n",
    "for c in text:\n",
    "    c = c.lower()\n",
    "    freq[c] = freq.get(c, 0) + 1\n",
    "\n",
    "for key, value in freq.items():\n",
    "    print(f\"{key}: {value}\")"
   ]
  }
 ],
 "metadata": {
  "kernelspec": {
   "display_name": "Python 3",
   "language": "python",
   "name": "python3"
  },
  "language_info": {
   "codemirror_mode": {
    "name": "ipython",
    "version": 3
   },
   "file_extension": ".py",
   "mimetype": "text/x-python",
   "name": "python",
   "nbconvert_exporter": "python",
   "pygments_lexer": "ipython3",
   "version": "3.9.10"
  }
 },
 "nbformat": 4,
 "nbformat_minor": 4
}
