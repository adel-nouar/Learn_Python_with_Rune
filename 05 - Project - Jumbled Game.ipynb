{
 "cells": [
  {
   "cell_type": "markdown",
   "metadata": {},
   "source": [
    "# Project - Jumbled Game\n",
    "### Goal\n",
    "- Implement the [Jumbled Game](https://en.wikipedia.org/wiki/Jumble)"
   ]
  },
  {
   "cell_type": "markdown",
   "metadata": {},
   "source": [
    "### Description\n",
    "- A word jumble is a word puzzle game that presents the player with a bunch of mixed up letters and requires them to unscramble the letters to find the hidden word.\n",
    "- The computer will take word and jumble it (mix up the letters).\n",
    "- Then the player will guess what the word is\n",
    "- An initial word list could be: ['father', 'enterprise', 'science', 'programming', 'resistance', 'fiction', 'condition', 'reverse', 'computer', 'python']"
   ]
  },
  {
   "cell_type": "code",
   "execution_count": 2,
   "metadata": {},
   "outputs": [],
   "source": [
    "import random"
   ]
  },
  {
   "cell_type": "code",
   "execution_count": 6,
   "metadata": {},
   "outputs": [
    {
     "name": "stdout",
     "output_type": "stream",
     "text": [
      "The jumble word is tesrnpriee\n",
      "Incorrect: The word is enterprise\n"
     ]
    }
   ],
   "source": [
    "words = ['father', 'enterprise', 'science', 'programming', 'resistance', 'fiction', 'condition', 'reverse', 'computer', 'python']\n",
    "word = random.choice(words)\n",
    "\n",
    "jumble = ''.join(random.sample(word, len(word)))\n",
    "\n",
    "print(f\"The jumble word is {jumble}\")\n",
    "\n",
    "guess = input(\"Write your guess: \")\n",
    "\n",
    "if guess == word:\n",
    "    print(\"Correct\")\n",
    "else:\n",
    "    print(f\"Incorrect: The word is {word}\")"
   ]
  }
 ],
 "metadata": {
  "kernelspec": {
   "display_name": "Python 3",
   "language": "python",
   "name": "python3"
  },
  "language_info": {
   "codemirror_mode": {
    "name": "ipython",
    "version": 3
   },
   "file_extension": ".py",
   "mimetype": "text/x-python",
   "name": "python",
   "nbconvert_exporter": "python",
   "pygments_lexer": "ipython3",
   "version": "3.9.10"
  }
 },
 "nbformat": 4,
 "nbformat_minor": 4
}
