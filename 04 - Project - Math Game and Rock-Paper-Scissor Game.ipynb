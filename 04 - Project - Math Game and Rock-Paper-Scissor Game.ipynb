{
 "cells": [
  {
   "cell_type": "markdown",
   "metadata": {},
   "source": [
    "# Project - Math Game and Rock-Paper-Scissor Game\n",
    "### Goal\n",
    "- Create a Math Game\n",
    "- Create a [Rock-Paper-Scissors Game](https://en.wikipedia.org/wiki/Rock_paper_scissors)"
   ]
  },
  {
   "cell_type": "markdown",
   "metadata": {},
   "source": [
    "### Math Game\n",
    "- First, import random\n",
    "- Get a random inteteger from the range 1 to 10 (both inclusive)\n",
    "- Get another random inteteger from the range 1 to 10 (both inclusive)\n",
    "- Prompt the user for what the two integers multiplied is\n",
    "- Print if correct or not. If not corrrect, print the correct answer."
   ]
  },
  {
   "cell_type": "code",
   "execution_count": 2,
   "metadata": {},
   "outputs": [],
   "source": [
    "import random"
   ]
  },
  {
   "cell_type": "code",
   "execution_count": 4,
   "metadata": {},
   "outputs": [
    {
     "name": "stdout",
     "output_type": "stream",
     "text": [
      "Enter choice: 1: Rock, 2: Paper, 3: Scissor\n",
      "Computer: 1\n",
      "Computer wins\n"
     ]
    }
   ],
   "source": [
    "print(\"Enter choice: 1: Rock, 2: Paper, 3: Scissor\")\n",
    "choice = input(\"Choice (1/2/3): \")\n",
    "choice = int(choice)\n",
    "\n",
    "computer_choice = random.randint(1, 3)\n",
    "print(f\"Computer: {computer_choice}\")\n",
    "\n",
    "if choice == computer_choice:\n",
    "    print(\"Draw\")\n",
    "elif choice == 1: # Rock\n",
    "    if computer_choice == 2: # Paper\n",
    "        print(\"Computer wins\")\n",
    "    else:\n",
    "        print(\"You win\")\n",
    "elif choice == 2: # Paper\n",
    "    if computer_choice == 1: # Rock\n",
    "        print(\"You win\")\n",
    "    else:\n",
    "        print(\"Computer wins\")\n",
    "elif choice == 3: # Scissor\n",
    "    if computer_choice == 1: # Rock\n",
    "        print(\"Computer wins\")\n",
    "    else:\n",
    "        print(\"You win\")"
   ]
  },
  {
   "cell_type": "code",
   "execution_count": null,
   "metadata": {},
   "outputs": [],
   "source": []
  },
  {
   "cell_type": "code",
   "execution_count": null,
   "metadata": {},
   "outputs": [],
   "source": []
  },
  {
   "cell_type": "markdown",
   "metadata": {},
   "source": [
    "### Rock, Paper, Scissors Game\n",
    "\n",
    "![Rock Paper Scissor](img/RockPaperScissors.png \"Rock-Paper-Scissor\")"
   ]
  },
  {
   "cell_type": "code",
   "execution_count": null,
   "metadata": {},
   "outputs": [],
   "source": []
  },
  {
   "cell_type": "code",
   "execution_count": null,
   "metadata": {},
   "outputs": [],
   "source": []
  },
  {
   "cell_type": "code",
   "execution_count": null,
   "metadata": {},
   "outputs": [],
   "source": []
  }
 ],
 "metadata": {
  "kernelspec": {
   "display_name": "Python 3",
   "language": "python",
   "name": "python3"
  },
  "language_info": {
   "codemirror_mode": {
    "name": "ipython",
    "version": 3
   },
   "file_extension": ".py",
   "mimetype": "text/x-python",
   "name": "python",
   "nbconvert_exporter": "python",
   "pygments_lexer": "ipython3",
   "version": "3.9.10"
  }
 },
 "nbformat": 4,
 "nbformat_minor": 4
}
