{
 "cells": [
  {
   "cell_type": "markdown",
   "metadata": {},
   "source": [
    "# Project - Machine Learning\n",
    "### Goal\n",
    "- Implement a Linear Regression Model."
   ]
  },
  {
   "cell_type": "markdown",
   "metadata": {},
   "source": [
    "### Description\n",
    "- import numpy as np and import csv\n",
    "- from sklearn.linear_model import LinearRegression\n",
    "- import matplotlib.pyplot as plt with %matplotlib inline\n",
    "- Read the CSV file files/cars.csv as a list of dictionaries\n",
    "- Use list comprehension to get Horsepower and Torque from the CSV data.\n",
    "- Create the lists as NumPy arrays and reshape them.\n",
    "- Create a LinearRegression() model.\n",
    "- Call **fit(.)** with the two reshaped lists.\n",
    "- Call **predict(.)** with the reshaped list of Horsepower.\n",
    "- Create a scatter plot with all the points (Horsepower vs Torque)\n",
    "- Create a line (red) with the prediction result."
   ]
  },
  {
   "cell_type": "code",
   "execution_count": 1,
   "metadata": {},
   "outputs": [],
   "source": [
    "import numpy as np\n",
    "import csv\n",
    "from sklearn.linear_model import LinearRegression\n",
    "import matplotlib.pyplot as plt\n",
    "%matplotlib inline "
   ]
  },
  {
   "cell_type": "code",
   "execution_count": 2,
   "metadata": {},
   "outputs": [
    {
     "data": {
      "text/plain": [
       "{'Height': '140',\n",
       " 'Length': '143',\n",
       " 'Width': '202',\n",
       " 'Engine Driveline': 'All-wheel drive',\n",
       " 'Engine Type': 'Audi 3.2L 6 cylinder 250hp 236ft-lbs',\n",
       " 'Engine Hybrid': 'True',\n",
       " 'Number of Forward Gears': '6',\n",
       " 'Engine Transmission': '6 Speed Automatic Select Shift',\n",
       " 'Fuel City mpg': '18',\n",
       " 'Fuel Type': 'Gasoline',\n",
       " 'Fuel Highway mpg': '25',\n",
       " 'Classification': 'Automatic transmission',\n",
       " 'ID': '2009 Audi A3 3.2',\n",
       " 'Make': 'Audi',\n",
       " 'Model Year': '2009 Audi A3',\n",
       " 'Year': '2009',\n",
       " 'Horsepower': '250',\n",
       " 'Torque': '236'}"
      ]
     },
     "execution_count": 2,
     "metadata": {},
     "output_type": "execute_result"
    }
   ],
   "source": [
    "with open(\"./files/cars.csv\", \"r\") as f:\n",
    "    csv_reader = csv.DictReader(f)\n",
    "    cars = list(csv_reader)\n",
    "cars[0]"
   ]
  },
  {
   "cell_type": "code",
   "execution_count": 3,
   "metadata": {},
   "outputs": [],
   "source": [
    "horse_power = [int(car['Horsepower']) for car in cars]\n",
    "torque_power = [int(car['Torque']) for car in cars]"
   ]
  },
  {
   "cell_type": "code",
   "execution_count": 4,
   "metadata": {},
   "outputs": [],
   "source": [
    "X = np.array(horse_power).reshape((-1, 1))\n",
    "Y = np.array(torque_power).reshape((-1, 1))"
   ]
  },
  {
   "cell_type": "code",
   "execution_count": 5,
   "metadata": {},
   "outputs": [],
   "source": [
    "lin_regressor = LinearRegression()\n",
    "lin_regressor.fit(X, Y)\n",
    "Y_pred = lin_regressor.predict(X)"
   ]
  },
  {
   "cell_type": "code",
   "execution_count": 6,
   "metadata": {},
   "outputs": [],
   "source": [
    "alpha = str(round(lin_regressor.intercept_[0], 5))\n",
    "beta = str(round(lin_regressor.coef_[0][0]))"
   ]
  },
  {
   "cell_type": "code",
   "execution_count": 7,
   "metadata": {},
   "outputs": [
    {
     "data": {
      "text/plain": [
       "[<matplotlib.lines.Line2D at 0x7f773e4ed8e0>]"
      ]
     },
     "execution_count": 7,
     "metadata": {},
     "output_type": "execute_result"
    },
    {
     "data": {
      "image/png": "[encoded data removed]",
      "text/plain": [
       "<Figure size 432x288 with 1 Axes>"
      ]
     },
     "metadata": {
      "needs_background": "light"
     },
     "output_type": "display_data"
    }
   ],
   "source": [
    "fig, ax = plt.subplots()\n",
    "\n",
    "ax.set_title(f\"Alpha: {alpha}, Beta: {beta}\")\n",
    "ax.scatter(X, Y)\n",
    "ax.plot(X, Y_pred, c='r')"
   ]
  }
 ],
 "metadata": {
  "kernelspec": {
   "display_name": "Python 3",
   "language": "python",
   "name": "python3"
  },
  "language_info": {
   "codemirror_mode": {
    "name": "ipython",
    "version": 3
   },
   "file_extension": ".py",
   "mimetype": "text/x-python",
   "name": "python",
   "nbconvert_exporter": "python",
   "pygments_lexer": "ipython3",
   "version": "3.9.10"
  }
 },
 "nbformat": 4,
 "nbformat_minor": 4
}
