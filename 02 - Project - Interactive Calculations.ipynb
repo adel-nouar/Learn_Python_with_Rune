{
 "cells": [
  {
   "cell_type": "markdown",
   "metadata": {},
   "source": [
    "# Project - Interactive Calculations\n",
    "### Goal\n",
    "- Multiply two numbers\n",
    "- Days since you were born\n",
    "- Tip calculator"
   ]
  },
  {
   "cell_type": "markdown",
   "metadata": {},
   "source": [
    "### Step 1\n",
    "- Input a value from the user and keep it in variable **a**.\n",
    "- Input another value from the user and keep it in variable **b**.\n",
    "- Print the product of the two values (**a*b**)."
   ]
  },
  {
   "cell_type": "code",
   "execution_count": 2,
   "metadata": {},
   "outputs": [
    {
     "name": "stdout",
     "output_type": "stream",
     "text": [
      "a*b is 15\n"
     ]
    }
   ],
   "source": [
    "a = input(\"Input a: \")\n",
    "b = input(\"Input b: \")\n",
    "a = int(a)\n",
    "b = int(b)\n",
    "print(f\"a*b is {a*b}\")"
   ]
  },
  {
   "cell_type": "markdown",
   "metadata": {},
   "source": [
    "### Step 2\n",
    "- Input how many years the user it.\n",
    "- Convert the years to an integer.\n",
    "- Calculate how many days, hours, minutes, and seconds since the user is born."
   ]
  },
  {
   "cell_type": "code",
   "execution_count": 5,
   "metadata": {},
   "outputs": [
    {
     "name": "stdout",
     "output_type": "stream",
     "text": [
      "You are 10950 days old\n",
      "You are 262800 hours old\n",
      "You are 15768000 minutes old\n",
      "You are 946080000 seconds old\n"
     ]
    }
   ],
   "source": [
    "age = input(\"How many years are you?\" )\n",
    "age = int(age)\n",
    "print(f\"You are {age*365} days old\")\n",
    "print(f\"You are {age*365*24} hours old\")\n",
    "print(f\"You are {age*365*24*60} minutes old\")\n",
    "print(f\"You are {age*365*24*60*60} seconds old\")"
   ]
  },
  {
   "cell_type": "markdown",
   "metadata": {},
   "source": [
    "### Step 3\n",
    "- Here we will make a tip calculator.\n",
    "- Input the price.\n",
    "- Convert the price to an integer.\n",
    "- Input the percentage the user wants to tip.\n",
    "- Convert the percentage to an integer.\n",
    "- Calculate the tip by the following formula: **tip = price $\\times$ percentage_tip / 100**.\n",
    "- Round the tip to two digits.\n",
    "- Print the the tip.\n",
    "- *BONUS:* Adjust the code to take float input of percentage tip"
   ]
  },
  {
   "cell_type": "code",
   "execution_count": 6,
   "metadata": {},
   "outputs": [
    {
     "name": "stdout",
     "output_type": "stream",
     "text": [
      "Tip 10.4\n"
     ]
    }
   ],
   "source": [
    "price = input(\"Input price: \")\n",
    "price = int(price)\n",
    "percentage_tip = input(\"How much do you want to tip (%)? \")\n",
    "percentage_tip = float(percentage_tip)\n",
    "tip = price*percentage_tip/100\n",
    "tip = round(tip, 2)\n",
    "print(f\"Tip {tip}\")"
   ]
  }
 ],
 "metadata": {
  "kernelspec": {
   "display_name": "Python 3",
   "language": "python",
   "name": "python3"
  },
  "language_info": {
   "codemirror_mode": {
    "name": "ipython",
    "version": 3
   },
   "file_extension": ".py",
   "mimetype": "text/x-python",
   "name": "python",
   "nbconvert_exporter": "python",
   "pygments_lexer": "ipython3",
   "version": "3.9.10"
  }
 },
 "nbformat": 4,
 "nbformat_minor": 4
}
