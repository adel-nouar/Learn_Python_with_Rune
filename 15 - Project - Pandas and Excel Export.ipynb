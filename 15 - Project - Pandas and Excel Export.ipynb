{
 "cells": [
  {
   "cell_type": "markdown",
   "metadata": {},
   "source": [
    "# Project - Pandas and Excel Export\n",
    "### Goal\n",
    "- Learn how to use Pandas DataFrames\n",
    "- Export to Excel spreadsheets"
   ]
  },
  {
   "cell_type": "markdown",
   "metadata": {},
   "source": [
    "### Description\n",
    "- import pandas as pd\n",
    "- Read the CSV file files/SalesData.csv with pandas\n",
    "    - Remember to set index_col to Date, delimiter to ';' and parse_dates to True\n",
    "- Group the data by **Sales rep** and sum it\n",
    "- Group the data by month\n",
    "    - HINT: Use pd.Grouper(freq='M')\n",
    "    - HINT: Change the index naming to use month names\n",
    "- Export the data to Excel\n",
    "    - Create an ExcelWriter from Pandas\n",
    "    - Write a sheet with **Sales rep** data create above (remember to set sheet_name)\n",
    "    - Write a sheet with **Monthly** data created above (remember to set sheet_name)\n",
    "- Bonus:\n",
    "    - Create charts column charts for each sheet.\n",
    "    - Use the simple way we created it."
   ]
  },
  {
   "cell_type": "code",
   "execution_count": null,
   "metadata": {},
   "outputs": [],
   "source": []
  },
  {
   "cell_type": "code",
   "execution_count": null,
   "metadata": {},
   "outputs": [],
   "source": []
  },
  {
   "cell_type": "code",
   "execution_count": null,
   "metadata": {},
   "outputs": [],
   "source": []
  },
  {
   "cell_type": "code",
   "execution_count": null,
   "metadata": {},
   "outputs": [],
   "source": []
  }
 ],
 "metadata": {
  "kernelspec": {
   "display_name": "Python 3",
   "language": "python",
   "name": "python3"
  },
  "language_info": {
   "codemirror_mode": {
    "name": "ipython",
    "version": 3
   },
   "file_extension": ".py",
   "mimetype": "text/x-python",
   "name": "python",
   "nbconvert_exporter": "python",
   "pygments_lexer": "ipython3",
   "version": "3.8.5"
  }
 },
 "nbformat": 4,
 "nbformat_minor": 4
}
