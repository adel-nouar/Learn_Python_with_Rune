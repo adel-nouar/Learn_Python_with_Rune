{
 "cells": [
  {
   "cell_type": "markdown",
   "source": [
    "# Project - List and Dict Comprehension\n",
    "### Goal\n",
    "- Learn to use list and dict comprehension"
   ],
   "metadata": {}
  },
  {
   "cell_type": "markdown",
   "source": [
    "### Description\n",
    "- Redo some of our code"
   ],
   "metadata": {}
  },
  {
   "cell_type": "markdown",
   "source": [
    "### Encrypt with List Comprehension\n",
    "- Use **encrypt_char** and list comprehension to encrypt a string (\"you are awesome\").\n",
    "- HINT: You can use join(.)"
   ],
   "metadata": {}
  },
  {
   "cell_type": "code",
   "execution_count": 2,
   "source": [
    "def encrypt_char(char, key):\n",
    "    return chr(ord('A') + (ord(char) - ord('A') + key) %26)"
   ],
   "outputs": [],
   "metadata": {}
  },
  {
   "cell_type": "code",
   "execution_count": 3,
   "source": [
    "encrypt_char('Y', 3)"
   ],
   "outputs": [
    {
     "output_type": "execute_result",
     "data": {
      "text/plain": [
       "'B'"
      ]
     },
     "metadata": {},
     "execution_count": 3
    }
   ],
   "metadata": {}
  },
  {
   "cell_type": "code",
   "execution_count": 29,
   "source": [
    "message = 'You are awesome'\n",
    "key = 3\n",
    "cipher_list = [encrypt_char(c,key) \n",
    "                            if c not in ' ' else c \n",
    "                                for c in message.upper()]\n",
    "crypted_message = ''.join(cipher_list)\n",
    "crypted_message"
   ],
   "outputs": [
    {
     "output_type": "execute_result",
     "data": {
      "text/plain": [
       "'BRX DUH DZHVRPH'"
      ]
     },
     "metadata": {},
     "execution_count": 29
    }
   ],
   "metadata": {}
  },
  {
   "cell_type": "markdown",
   "source": [
    "### Decrypt with List Comprehension\n",
    "- Use **decrypt_char** and list comprehension to decrypt the cipher."
   ],
   "metadata": {}
  },
  {
   "cell_type": "code",
   "execution_count": 30,
   "source": [
    "def decrypt_char(char, key):\n",
    "    return encrypt_char(char, 26 - key)"
   ],
   "outputs": [],
   "metadata": {}
  },
  {
   "cell_type": "code",
   "execution_count": 32,
   "source": [
    "cipher = 'BRX DUH DZHVRPH'\n",
    "key = 3\n",
    "message_list = [decrypt_char(c, key) \n",
    "                    if c not in ' ' else c for c in cipher]\n",
    "message = ''.join(message_list)\n",
    "message"
   ],
   "outputs": [
    {
     "output_type": "execute_result",
     "data": {
      "text/plain": [
       "'YOU ARE AWESOME'"
      ]
     },
     "metadata": {},
     "execution_count": 32
    }
   ],
   "metadata": {}
  },
  {
   "cell_type": "code",
   "execution_count": null,
   "source": [],
   "outputs": [],
   "metadata": {}
  },
  {
   "cell_type": "markdown",
   "source": [
    "### Use Dict Comprehension for Frequency Count\n",
    "- Prompt the user for a line of text.\n",
    "- Use dict comprehension to count the number of occurences of each characerter.\n",
    "- Example: \"aabbccccc\" should give {'a': 2, 'b': 2, 'c': 5}\n",
    "- HINT: using count('a') on a string will return the number of occurences of 'a'."
   ],
   "metadata": {}
  },
  {
   "cell_type": "code",
   "execution_count": 36,
   "source": [
    "text = input('Input line of text: ')\n",
    "{c: text.count(c) for c in text}"
   ],
   "outputs": [
    {
     "output_type": "execute_result",
     "data": {
      "text/plain": [
       "{}"
      ]
     },
     "metadata": {},
     "execution_count": 36
    }
   ],
   "metadata": {}
  },
  {
   "cell_type": "code",
   "execution_count": null,
   "source": [
    "text = input('Input line of text: ')\n",
    "{c: text.count(c) for c in set(text)}"
   ],
   "outputs": [],
   "metadata": {}
  },
  {
   "cell_type": "code",
   "execution_count": null,
   "source": [],
   "outputs": [],
   "metadata": {}
  }
 ],
 "metadata": {
  "kernelspec": {
   "display_name": "Python 3",
   "language": "python",
   "name": "python3"
  },
  "language_info": {
   "codemirror_mode": {
    "name": "ipython",
    "version": 3
   },
   "file_extension": ".py",
   "mimetype": "text/x-python",
   "name": "python",
   "nbconvert_exporter": "python",
   "pygments_lexer": "ipython3",
   "version": "3.8.5"
  }
 },
 "nbformat": 4,
 "nbformat_minor": 4
}